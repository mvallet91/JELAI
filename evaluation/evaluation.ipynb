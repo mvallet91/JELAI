{
 "cells": [
  {
   "cell_type": "code",
   "execution_count": 1,
   "metadata": {},
   "outputs": [],
   "source": [
    "import dspy\n",
    "import os\n",
    "import json\n",
    "from dotenv import load_dotenv\n",
    "OLLAMA_API_BASE = os.getenv(\"ollama_url\", \"http://localhost:11434\") # Your Ollama URL\n",
    "lm = dspy.LM('ollama_chat/gemma3:4b', api_base=OLLAMA_API_BASE, api_key='')\n",
    "dspy.configure(lm=lm)\n",
    "dspy.settings.configure(track_usage=True)"
   ]
  },
  {
   "cell_type": "code",
   "execution_count": 2,
   "metadata": {},
   "outputs": [
    {
     "data": {
      "text/plain": [
       "Prediction(\n",
       "    sentiment='negative',\n",
       "    confidence=0.95\n",
       ")"
      ]
     },
     "execution_count": 2,
     "metadata": {},
     "output_type": "execute_result"
    }
   ],
   "source": [
    "from typing import Literal\n",
    "\n",
    "class Classify(dspy.Signature):\n",
    "    \"\"\"Classify sentiment of a given sentence.\"\"\"\n",
    "\n",
    "    sentence: str = dspy.InputField()\n",
    "    sentiment: Literal['positive', 'negative', 'neutral'] = dspy.OutputField()\n",
    "    confidence: float = dspy.OutputField()\n",
    "\n",
    "classify = dspy.Predict(Classify)\n",
    "classify(sentence=\"I hated everything abouyt this book, though not the last chapter.\")"
   ]
  },
  {
   "cell_type": "code",
   "execution_count": 3,
   "metadata": {},
   "outputs": [
    {
     "name": "stdout",
     "output_type": "stream",
     "text": [
      "Classifying: how do i import a csv into pandas?\n",
      "Category: executive\n",
      "Confidence: 0.95\n",
      "\n",
      "Classifying: Task 2: Import the file into a DataFrame.\n",
      "Category: executive\n",
      "Confidence: 0.95\n",
      "\n",
      "Classifying: I need help with my homework.\n",
      "Category: executive\n",
      "Confidence: 0.85\n",
      "\n",
      "Classifying: Fix this NameError: name 'pd' is not defined\n",
      "Category: executive\n",
      "Confidence: 0.95\n",
      "\n",
      "Classifying: TypeError: 'str' object is not callable\n",
      "Category: executive\n",
      "Confidence: 0.95\n",
      "\n",
      "Classifying: Thanks!\n",
      "Category: other\n",
      "Confidence: 0.85\n",
      "\n"
     ]
    }
   ],
   "source": [
    "from typing import Literal\n",
    "\n",
    "class Classify(dspy.Signature):\n",
    "    \"\"\"Classify the type of request based on help-seeking type: adaptive help geared towards deeper understanding is instrumental,\n",
    "    while non-adaptive help that is more about getting the task done is executive. \n",
    "    Copy-pasting tasks, instructions, code or errors without explanation is also executive.\n",
    "    Other requests are classified as other.\"\"\"\n",
    "\n",
    "    sentence: str = dspy.InputField()\n",
    "    category: Literal['instrumental', 'executive', 'other'] = dspy.OutputField()\n",
    "    confidence: float = dspy.OutputField()\n",
    "\n",
    "sentences = [\"how do i import a csv into pandas?\",  \n",
    "            \"Task 2: Import the file into a DataFrame.\",\n",
    "            \"I need help with my homework.\",\n",
    "             \"Fix this NameError: name 'pd' is not defined\",\n",
    "             \"TypeError: 'str' object is not callable\",\n",
    "             \"Thanks!\",]\n",
    "\n",
    "for sentence in sentences:\n",
    "    print(f\"Classifying: {sentence}\")\n",
    "    # Call the classify function\n",
    "    classify = dspy.Predict(Classify)\n",
    "    result = classify(sentence=sentence)\n",
    "    # Print the result\n",
    "    print(f\"Category: {result.category}\")\n",
    "    print(f\"Confidence: {result.confidence}\")\n",
    "    print()"
   ]
  },
  {
   "cell_type": "code",
   "execution_count": 32,
   "metadata": {},
   "outputs": [
    {
     "ename": "AttributeError",
     "evalue": "get_lm_usage",
     "output_type": "error",
     "traceback": [
      "\u001b[31m---------------------------------------------------------------------------\u001b[39m",
      "\u001b[31mAttributeError\u001b[39m                            Traceback (most recent call last)",
      "\u001b[36mCell\u001b[39m\u001b[36m \u001b[39m\u001b[32mIn[32]\u001b[39m\u001b[32m, line 1\u001b[39m\n\u001b[32m----> \u001b[39m\u001b[32m1\u001b[39m \u001b[43mClassify\u001b[49m\u001b[43m.\u001b[49m\u001b[43mget_lm_usage\u001b[49m()  \u001b[38;5;66;03m# Shows token usage\u001b[39;00m\n",
      "\u001b[36mFile \u001b[39m\u001b[32m~/JELAI/evaluation/.venv/lib/python3.12/site-packages/pydantic/_internal/_model_construction.py:271\u001b[39m, in \u001b[36mModelMetaclass.__getattr__\u001b[39m\u001b[34m(self, item)\u001b[39m\n\u001b[32m    269\u001b[39m \u001b[38;5;28;01mif\u001b[39;00m private_attributes \u001b[38;5;129;01mand\u001b[39;00m item \u001b[38;5;129;01min\u001b[39;00m private_attributes:\n\u001b[32m    270\u001b[39m     \u001b[38;5;28;01mreturn\u001b[39;00m private_attributes[item]\n\u001b[32m--> \u001b[39m\u001b[32m271\u001b[39m \u001b[38;5;28;01mraise\u001b[39;00m \u001b[38;5;167;01mAttributeError\u001b[39;00m(item)\n",
      "\u001b[31mAttributeError\u001b[39m: get_lm_usage"
     ]
    }
   ],
   "source": [
    "\n",
    "\n",
    "Classify.get_lm_usage()  # Shows token usage"
   ]
  },
  {
   "cell_type": "code",
   "execution_count": null,
   "metadata": {},
   "outputs": [],
   "source": []
  }
 ],
 "metadata": {
  "kernelspec": {
   "display_name": "analysis",
   "language": "python",
   "name": "python3"
  },
  "language_info": {
   "codemirror_mode": {
    "name": "ipython",
    "version": 3
   },
   "file_extension": ".py",
   "mimetype": "text/x-python",
   "name": "python",
   "nbconvert_exporter": "python",
   "pygments_lexer": "ipython3",
   "version": "3.12.9"
  }
 },
 "nbformat": 4,
 "nbformat_minor": 2
}
