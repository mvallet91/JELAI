{
 "cells": [
  {
   "cell_type": "markdown",
   "id": "1232afed",
   "metadata": {},
   "source": [
    "# 🎓 JELAI AIED Demo - AIED25 Palermo! 🇮🇹\n",
    "\n",
    "**Welcome AIED Friends!** \n",
    "\n",
    "\n",
    "📄 **Research Paper:**  \n",
    "> Valle Torre, M., van der Velden, T., Specht, M., Oertel, C. (2025). JELAI: Integrating AI and Learning Analytics in Jupyter Notebooks. In: Cristea, A.I., Walker, E., Lu, Y., Santos, O.C., Isotani, S. (eds) Artificial Intelligence in Education. AIED 2025. Lecture Notes in Computer Science(), vol 15882. Springer, Cham. https://doi.org/10.1007/978-3-031-98465-5_9\n",
    "\n",
    "🛠️ **Source Repository**:\n",
    "> [GitHub - JELAI](https://github.com/mvallet91/JELAI/)\n",
    "\n",
    "This interactive demo showcases some of JELAI's functionalities, such as adaptive LLM prompting, log integration, and personalized learning experiences.\n",
    "\n",
    "We do this via a **pedagogical personality system** - an adaptive AI tutoring approach that switches between different teaching methodologies based on student needs and question patterns.\n",
    "\n",
    "Experience how the same AI system can embody different pedagogical approaches, from Socratic questioning to Feynman explanation techniques, providing personalized learning experiences.\n",
    "\n",
    "To get started, click on the bubble icon on the left toolbar and select **Open a chat** -> **JELAI AIED Demo**.\n",
    "\n",
    "## 🎭 Available Personalities:\n",
    "- `/personality socratic` - Learn through questions  \n",
    "- `/personality feynman` - Learn by explaining\n",
    "- `/personality wing` - Systematic problem decomposition\n",
    "- `/personality default` - Standard help\n",
    "\n",
    "## 🚀 How to Use:\n",
    "1. Type `/personality [name]` in chat to switch styles\n",
    "2. Run code cells and ask for help when you get errors\n",
    "3. Try the same question with different personalities!\n",
    "4. Check the report function at the end to get a detailed summary of your notebook activity"
   ]
  },
  {
   "cell_type": "markdown",
   "id": "80a7d698",
   "metadata": {},
   "source": [
    "## 📚 Step 1: Import Libraries\n",
    "\n",
    "Let's start with basic imports."
   ]
  },
  {
   "cell_type": "code",
   "execution_count": null,
   "id": "6ed6ac73",
   "metadata": {},
   "outputs": [],
   "source": [
    "import pandas as pd\n",
    "import numpy as np\n",
    "\n",
    "print(\"Libraries imported successfully!\")"
   ]
  },
  {
   "cell_type": "markdown",
   "id": "f0220d62",
   "metadata": {},
   "source": [
    "## 📊 Step 2: Create Simple Data\n",
    "\n",
    "Let's make a small sales dataset to work with."
   ]
  },
  {
   "cell_type": "code",
   "execution_count": null,
   "id": "e4b74587",
   "metadata": {},
   "outputs": [],
   "source": [
    "# Create simple sales data\n",
    "sales_data = {\n",
    "    'product': ['Laptop', 'Mouse', 'Keyboard', 'Monitor', 'Phone'],\n",
    "    'price': [800, 25, 75, 300, 600],\n",
    "    'quantity': [2, 5, 3, 1, 4]\n",
    "}\n",
    "\n",
    "sales_df = pd.DataFrame(sales_data)\n",
    "print(\"Sales data created!\")\n",
    "print(sales_df)"
   ]
  },
  {
   "cell_type": "markdown",
   "id": "5bb2fced",
   "metadata": {},
   "source": [
    "## 🔍 Step 3: Calculate Total Sales\n",
    "\n",
    "Add a column for total sales (price × quantity)."
   ]
  },
  {
   "cell_type": "code",
   "execution_count": null,
   "id": "32011092",
   "metadata": {},
   "outputs": [],
   "source": [
    "# Calculate total sales for each product\n",
    "sales_df['total_sales'] = sales_df['price'] * sales_df['quantity']\n",
    "\n",
    "# Show the result\n",
    "print(sales_df)"
   ]
  },
  {
   "cell_type": "markdown",
   "id": "85ead755",
   "metadata": {},
   "source": [
    "## ❌ Step 4: Error Practice\n",
    "\n",
    "This cell has an error. Try asking different personalities for help!"
   ]
  },
  {
   "cell_type": "code",
   "execution_count": null,
   "id": "708055a4",
   "metadata": {},
   "outputs": [],
   "source": [
    "# Try to get sum of total sales (this has an error!)\n",
    "total_revenue = sales_df['total_sale'].sum()\n",
    "print(f\"Total revenue: ${total_revenue}\")\n",
    "\n",
    "# Ask Juno: \"I'm getting a KeyError, what's wrong?\""
   ]
  },
  {
   "cell_type": "markdown",
   "id": "0b6d55cd",
   "metadata": {},
   "source": [
    "## 🏆 Step 5: Find the Best Product\n",
    "\n",
    "Which product generated the most revenue?"
   ]
  },
  {
   "cell_type": "code",
   "execution_count": null,
   "id": "8e3d0eaa",
   "metadata": {},
   "outputs": [],
   "source": [
    "# Find product with highest total sales\n",
    "best_product = sales_df.loc[sales_df['total_sales'].idxmax()]\n",
    "print(\"Best selling product:\")\n",
    "print(best_product)"
   ]
  },
  {
   "cell_type": "markdown",
   "id": "1326d71e",
   "metadata": {},
   "source": [
    "## 🎭 Step 6: Personality Experiment\n",
    "\n",
    "Try asking the same question with different personalities:\n",
    "\n",
    "1. `/personality socratic` → Ask: \"How do I find the average price?\"\n",
    "2. `/personality feynman` → Ask: \"How do I find the average price?\"  \n",
    "3. `/personality wing` → Ask: \"How do I find the average price?\"\n",
    "\n",
    "Notice the different teaching styles!\n",
    "\n",
    "**Note**: The AI can only see the logs if the notebook has the same name as the chat, and the whole learning session history is based on this name.\n",
    "\n",
    "For a new session, make sure to start with a fresh notebook with a different name, and use the same name for the chat."
   ]
  },
  {
   "cell_type": "code",
   "execution_count": null,
   "id": "8d28da2d",
   "metadata": {},
   "outputs": [],
   "source": [
    "# Try calculating average price yourself\n",
    "# Ask Juno for help if you get stuck!\n",
    "\n",
    "# Your code here:\n",
    "avg_price = # Complete this line"
   ]
  },
  {
   "cell_type": "markdown",
   "id": "55cd2e32",
   "metadata": {},
   "source": [
    "## 🎉 Done!\n",
    "\n",
    "You've experienced JELAI's different teaching personalities:\n",
    "\n",
    "- **Socratic**: Asks questions to guide your thinking\n",
    "- **Feynman**: Encourages you to explain concepts  \n",
    "- **Wing**: Systematic, step-by-step problem solving\n",
    "- **Default**: Direct, helpful assistance\n",
    "\n",
    "## 🧪 Try This:\n",
    "1. Ask the same question to different personalities\n",
    "2. See how Wing escalates when you ask lazy questions\n",
    "3. Notice how they reference your previous code attempts\n",
    "4. **Type `/report`** to get a detailed analysis of your learning session\n",
    "\n",
    "## 📊 Get Your Learning Report:\n",
    "Type `/report` in the chat to receive:\n",
    "- Summary of all your coding attempts\n",
    "- Analysis of errors and how you solved them\n",
    "- Learning progress insights\n",
    "- Personalized recommendations\n",
    "\n",
    "Which personality helped you learn best?"
   ]
  }
 ],
 "metadata": {
  "kernelspec": {
   "display_name": "Python 3",
   "language": "python",
   "name": "python3"
  },
  "language_info": {
   "name": "python",
   "version": "3.12.3"
  }
 },
 "nbformat": 4,
 "nbformat_minor": 5
}
