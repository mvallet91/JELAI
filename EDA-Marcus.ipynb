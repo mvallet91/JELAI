{
 "cells": [
  {
   "cell_type": "markdown",
   "id": "c60bd545-8c37-4cf0-9768-e3ecd2024cc5",
   "metadata": {},
   "source": [
    "# Exploratory Data Analysis\n",
    "\n",
    "## Introduction\n",
    "Data, derived from the Latin word \\\"dare\\\" (meaning \\\"something given\\\"), refers to observations or facts about a subject. \n",
    "Data science aims to uncover hidden useful relationships within data. Before applying advanced analytical techniques, basic data exploration is crucial.\n",
    "This involves understanding the dataset's basic characteristics, preparing it for further analysis, and sometimes quickly gaining insights.\n",
    "\n",
    "Data exploration, or exploratory data analysis (EDA), uses simple techniques like pivot tables, statistical computations (mean, deviation), and various charts (line, bar, scatter) to understand the data. \n",
    "EDA helps grasp the data's structure, distribution, and relationships between attributes, guiding further statistical and data science treatments. \n",
    "EDA includes two main types: descriptive statistics and data visualization.\n",
    "Descriptive statistics condense key dataset characteristics into numeric metrics (mean, standard deviation, correlation).\n",
    "Data visualization projects data into multi-dimensional space or abstract images, covering all types of charts. \n",
    "Both techniques are essential in data science for comprehensive data exploration.\n",
    "\n",
    "In the data science process, data exploration is leveraged in many different steps including preprocessing or data preparation, modeling, and interpretation of the modeling results.\n",
    "1. Data understanding: Data exploration provides a high-level overview of each attribute (also called a *variable*) in the dataset and the interaction between the attributes. Data exploration helps answer questions like *what is the typical value of an attribute* or *how much do the data points differ from the typical value*, or *are there any extreme values in the data*.\n",
    "2. Data preparation: Before applying an algorithm, the dataset has to be prepared by handling any of the anomalies that may be present in the data. These anomalies include outliers, missing values, or highly correlated attributes. Some data science algorithms do not work well when input attributes are correlated. Thus, correlated attributes need to be identified and handled or removed.\n",
    "3. Data science tasks: Basic data exploration can sometimes substitute the entire data science process. For example, scatterplots can identify clusters in low-dimensional data or can help develop regression or classification models with simple visual rules.\n",
    "4. Interpreting the results: Finally, data exploration is used in understanding the prediction, classification, and clustering of the results of the data science process. Histograms help to comprehend the distribution of the attribute and can also be useful for visualizing numeric prediction, error rate estimation, etc.\n",
    "\n",
    "\n",
    "## Shark Research Challenge\n",
    "Welcome to the Shark Research Challenge! You have been hired as a data scientist by the Oceanic Research Institute to analyze data about sharks.\n",
    "The institute has collected detailed information on different shark species, gender, geographical locations, and their movement patterns.\n",
    "Your expertise is needed to uncover critical insights that can help marine biologists understand shark behaviours and migration patterns better.\n",
    "\n",
    "### Task\n",
    "The institute is planning a major expedition and needs your help to make data-driven decisions. They have provided you with a dataset named `sharks.csv`, which includes various observations of sharks. The research team has tasked you with the following task:\n",
    "- **Species Analysis**: Using Python code and the AI assistant on the chat on the left, determine the most and least common shark species in the data. This will help the team focus on species that may need more conservation efforts or those that are thriving.\n",
    "   - If the chat is not already open on the left side: to open the chat, click on the chat bubbles on the left toolbar, then at the top select *Open chat* and click on **EDA**\n",
    "- Write a short (2-3 paragraphs) report describing your process and results as if you were describing it to your team at the Oceanic Research Institute. You can refer to your code, the AI assistant, and how their insights influenced your decisions. You can use visualizations if you prefer."
   ]
  },
  {
   "cell_type": "markdown",
   "id": "05d72195-71e8-42f9-b81c-36a6003695a5",
   "metadata": {},
   "source": [
    "### First time using Jupyter Notebooks?\n",
    "This is a Jupyter Notebook, it allows you to write and run code in an interactive environment. It combines code execution, text, and visualizations in a single document, making it ideal for data analysis, machine learning, and educational purposes. \n",
    "\n",
    "Understand the Interface:\n",
    "- Cells: The main components where you write your code. There are two main types: Code cells and Markdown cells.\n",
    "    - Code Cell: For writing and executing code. \n",
    "    - Markdown Cell: For writing formatted text using \\\"Markdown\\\" language. This cell is a Markdown cell; double-click on it to see the unformatted text, and click on the Play button on the toolbar above to format the text again.\n",
    "- Toolbar: Buttons for saving, adding/deleting cells, and running code.\n",
    "\n",
    "Basic Operations:\n",
    "- Run Code: Write Python code in a cell and click on the Play button in the toolbar or press `Shift + Enter` to execute it. The result will be displayed below the cell.\n",
    "- Add Cells: Click the + button in the toolbar or press `B` after running a cell to add a new cell below. You can use as many cells as you want.\n",
    "- Delete Cells: Select the cell and click the scissors icon or press `D` twice.\n",
    "- Change Cell Type:\n",
    "    - To Markdown: Select the cell and select `Markdown` in the toolbar or press M. \n",
    "    - To Code: Select the cell and select `Code` in the toolbar or press Y.\n",
    "    \n",
    "Try to run the cell below:"
   ]
  },
  {
   "cell_type": "code",
   "execution_count": null,
   "id": "d867aa4b-eb3c-4c07-a81f-47f9d6c60f16",
   "metadata": {},
   "outputs": [],
   "source": [
    "animal = 'sharks'\n",
    "print('I love ' + animal)"
   ]
  },
  {
   "cell_type": "markdown",
   "id": "11dc7c9d-1835-4a10-9ee3-c0e600d29036",
   "metadata": {},
   "source": [
    "Now add a new cell below, copy-paste the code and change the animal."
   ]
  },
  {
   "cell_type": "markdown",
   "id": "ac9eca04-d2b2-4d7c-9ae7-256cf27bd373",
   "metadata": {},
   "source": [
    "Feel free to ask any questions to the assistant on the chat! And please avoid using other resources (like Google or other chats)"
   ]
  },
  {
   "cell_type": "markdown",
   "id": "21c92c48-6261-4b24-a428-e4bd9c28a2fd",
   "metadata": {},
   "source": [
    "## Your task\n",
    "Import the data, explore it and understand its structure to complete the task.\n",
    "- **Species Analysis**: Using Python code and the AI assistant on the chat on the left, determine the most and least common shark species in the data. This will help the team focus on species that may need more conservation efforts or those that are thriving."
   ]
  },
  {
   "cell_type": "code",
   "execution_count": null,
   "id": "f901af7c-6ef2-40d5-91bb-16e906fab5b3",
   "metadata": {},
   "outputs": [],
   "source": [
    "# This is the location of the CSV (comma-separated value) dataset\n",
    "\n",
    "dataset_path = 'sharks.csv'"
   ]
  },
  {
   "cell_type": "code",
   "execution_count": null,
   "id": "0ffb6a22-2765-41bd-9e72-1780aaf00699",
   "metadata": {},
   "outputs": [],
   "source": []
  },
  {
   "cell_type": "markdown",
   "id": "b71d8064-8a9d-45fd-a032-3894a62c8301",
   "metadata": {},
   "source": [
    "## Report\n",
    "\n",
    "Write below your report about the sharks and the prevalence of different species in the data, use 1-2 sentences to describe your findings as if you were communicating with your team at the Oceanic Research Institute. \n",
    "Then write 1-2 sentences to describe your process to your \"supervisor\". \n",
    "You can refer to what you learned, your code, the AI assistant, and how the insights obtained influenced your decisions. \n",
    "You can use visualizations if you prefer."
   ]
  }
 ],
 "metadata": {
  "kernelspec": {
   "display_name": "Python 3 (ipykernel)",
   "language": "python",
   "name": "python3"
  },
  "language_info": {
   "codemirror_mode": {
    "name": "ipython",
    "version": 3
   },
   "file_extension": ".py",
   "mimetype": "text/x-python",
   "name": "python",
   "nbconvert_exporter": "python",
   "pygments_lexer": "ipython3",
   "version": "3.11.9"
  }
 },
 "nbformat": 4,
 "nbformat_minor": 5
}
