{
 "cells": [
  {
   "cell_type": "markdown",
   "id": "37caf059",
   "metadata": {},
   "source": [
    "# CSV Data Cleaning and Analytics"
   ]
  },
  {
   "cell_type": "markdown",
   "id": "c0f26553",
   "metadata": {},
   "source": [
    "## Introduction"
   ]
  },
  {
   "cell_type": "markdown",
   "id": "2e5c006a",
   "metadata": {},
   "source": [
    "This notebook was created by [Jupyter AI](https://github.com/jupyterlab/jupyter-ai) with the following prompt:\n",
    "\n",
    "> /generate a notebook to read a csv, do some basic data cleaning and descriptive analytics"
   ]
  },
  {
   "cell_type": "markdown",
   "id": "0ee112e3",
   "metadata": {},
   "source": [
    "The Jupyter notebook will focus on reading a CSV file, performing basic data cleaning, and conducting descriptive analytics. The notebook will start by importing necessary libraries, including pandas, for data manipulation and analysis. The CSV file will then be loaded into a DataFrame using the pandas library. The data will be explored by displaying the first few rows to understand its structure and contents. Data cleaning steps will include handling missing values, removing duplicate rows, and performing necessary data transformations. Descriptive analytics will be conducted to generate summary statistics, visualizations, and insights to better understand the dataset. Overall, the notebook will provide a comprehensive guide on how to work with CSV files, clean data, and perform descriptive analytics."
   ]
  },
  {
   "cell_type": "markdown",
   "id": "6f48b9bb",
   "metadata": {},
   "source": [
    "## Load the CSV file"
   ]
  },
  {
   "cell_type": "code",
   "execution_count": 1,
   "id": "a1bf4d9a-1062-466a-9d30-ccca43255042",
   "metadata": {},
   "outputs": [
    {
     "name": "stdout",
     "output_type": "stream",
     "text": [
      "Collecting pandas\n",
      "  Downloading pandas-2.2.2-cp311-cp311-win_amd64.whl.metadata (19 kB)\n",
      "Requirement already satisfied: numpy>=1.23.2 in c:\\users\\mvall\\.conda\\envs\\jupyter-ai\\lib\\site-packages (from pandas) (1.26.4)\n",
      "Requirement already satisfied: python-dateutil>=2.8.2 in c:\\users\\mvall\\.conda\\envs\\jupyter-ai\\lib\\site-packages (from pandas) (2.9.0)\n",
      "Requirement already satisfied: pytz>=2020.1 in c:\\users\\mvall\\.conda\\envs\\jupyter-ai\\lib\\site-packages (from pandas) (2024.1)\n",
      "Collecting tzdata>=2022.7 (from pandas)\n",
      "  Downloading tzdata-2024.1-py2.py3-none-any.whl.metadata (1.4 kB)\n",
      "Requirement already satisfied: six>=1.5 in c:\\users\\mvall\\.conda\\envs\\jupyter-ai\\lib\\site-packages (from python-dateutil>=2.8.2->pandas) (1.16.0)\n",
      "Downloading pandas-2.2.2-cp311-cp311-win_amd64.whl (11.6 MB)\n",
      "   ---------------------------------------- 0.0/11.6 MB ? eta -:--:--\n",
      "   ---------------------------------------- 0.0/11.6 MB 660.6 kB/s eta 0:00:18\n",
      "    --------------------------------------- 0.2/11.6 MB 3.0 MB/s eta 0:00:04\n",
      "   ----- ---------------------------------- 1.6/11.6 MB 12.8 MB/s eta 0:00:01\n",
      "   ---------- ----------------------------- 3.0/11.6 MB 19.0 MB/s eta 0:00:01\n",
      "   ----------------- ---------------------- 5.1/11.6 MB 23.3 MB/s eta 0:00:01\n",
      "   ------------------ --------------------- 5.2/11.6 MB 22.4 MB/s eta 0:00:01\n",
      "   ---------------------- ----------------- 6.5/11.6 MB 20.9 MB/s eta 0:00:01\n",
      "   ------------------------------ --------- 8.9/11.6 MB 24.7 MB/s eta 0:00:01\n",
      "   ----------------------------------- ---- 10.3/11.6 MB 29.7 MB/s eta 0:00:01\n",
      "   ---------------------------------------  11.6/11.6 MB 32.8 MB/s eta 0:00:01\n",
      "   ---------------------------------------- 11.6/11.6 MB 29.8 MB/s eta 0:00:00\n",
      "Downloading tzdata-2024.1-py2.py3-none-any.whl (345 kB)\n",
      "   ---------------------------------------- 0.0/345.4 kB ? eta -:--:--\n",
      "   --------------------------------------- 345.4/345.4 kB 20.9 MB/s eta 0:00:00\n",
      "Installing collected packages: tzdata, pandas\n",
      "Successfully installed pandas-2.2.2 tzdata-2024.1\n"
     ]
    }
   ],
   "source": [
    "!pip install pandas"
   ]
  },
  {
   "cell_type": "code",
   "execution_count": 1,
   "id": "0672ef72",
   "metadata": {},
   "outputs": [],
   "source": [
    "import pandas as pd"
   ]
  },
  {
   "cell_type": "code",
   "execution_count": 2,
   "id": "add2d2b8-2065-4faf-8d5e-48e20dd7563b",
   "metadata": {},
   "outputs": [
    {
     "name": "stdout",
     "output_type": "stream",
     "text": [
      "['sepal_length', 'sepal_width', 'petal_length', 'petal_width', 'species']\n",
      "['5.1', '3.5', '1.4', '0.2', 'setosa']\n",
      "['4.9', '3.0', '1.4', '0.2', 'setosa']\n",
      "['4.7', '3.2', '1.3', '0.2', 'setosa']\n",
      "['4.6', '3.1', '1.5', '0.2', 'setosa']\n",
      "['5.0', '3.6', '1.4', '0.2', 'setosa']\n",
      "['5.4', '3.9', '1.7', '0.4', 'setosa']\n",
      "['4.6', '3.4', '1.4', '0.3', 'setosa']\n",
      "['5.0', '3.4', '1.5', '0.2', 'setosa']\n",
      "['4.4', '2.9', '1.4', '0.2', 'setosa']\n",
      "['4.9', '3.1', '1.5', '0.1', 'setosa']\n",
      "['5.4', '3.7', '1.5', '0.2', 'setosa']\n",
      "['4.8', '3.4', '1.6', '0.2', 'setosa']\n",
      "['4.8', '3.0', '1.4', '0.1', 'setosa']\n",
      "['4.3', '3.0', '1.1', '0.1', 'setosa']\n",
      "['5.8', '4.0', '1.2', '0.2', 'setosa']\n",
      "['5.7', '4.4', '1.5', '0.4', 'setosa']\n",
      "['5.4', '3.9', '1.3', '0.4', 'setosa']\n",
      "['5.1', '3.5', '1.4', '0.3', 'setosa']\n",
      "['5.7', '3.8', '1.7', '0.3', 'setosa']\n",
      "['5.1', '3.8', '1.5', '0.3', 'setosa']\n",
      "['5.4', '3.4', '1.7', '0.2', 'setosa']\n",
      "['5.1', '3.7', '1.5', '0.4', 'setosa']\n",
      "['4.6', '3.6', '1.0', '0.2', 'setosa']\n",
      "['5.1', '3.3', '1.7', '0.5', 'setosa']\n",
      "['4.8', '3.4', '1.9', '0.2', 'setosa']\n",
      "['5.0', '3.0', '1.6', '0.2', 'setosa']\n",
      "['5.0', '3.4', '1.6', '0.4', 'setosa']\n",
      "['5.2', '3.5', '1.5', '0.2', 'setosa']\n",
      "['5.2', '3.4', '1.4', '0.2', 'setosa']\n",
      "['4.7', '3.2', '1.6', '0.2', 'setosa']\n",
      "['4.8', '3.1', '1.6', '0.2', 'setosa']\n",
      "['5.4', '3.4', '1.5', '0.4', 'setosa']\n",
      "['5.2', '4.1', '1.5', '0.1', 'setosa']\n",
      "['5.5', '4.2', '1.4', '0.2', 'setosa']\n",
      "['4.9', '3.1', '1.5', '0.2', 'setosa']\n",
      "['5.0', '3.2', '1.2', '0.2', 'setosa']\n",
      "['5.5', '3.5', '1.3', '0.2', 'setosa']\n",
      "['4.9', '3.6', '1.4', '0.1', 'setosa']\n",
      "['4.4', '3.0', '1.3', '0.2', 'setosa']\n",
      "['5.1', '3.4', '1.5', '0.2', 'setosa']\n",
      "['5.0', '3.5', '1.3', '0.3', 'setosa']\n",
      "['4.5', '2.3', '1.3', '0.3', 'setosa']\n",
      "['4.4', '3.2', '1.3', '0.2', 'setosa']\n",
      "['5.0', '3.5', '1.6', '0.6', 'setosa']\n",
      "['5.1', '3.8', '1.9', '0.4', 'setosa']\n",
      "['4.8', '3.0', '1.4', '0.3', 'setosa']\n",
      "['5.1', '3.8', '1.6', '0.2', 'setosa']\n",
      "['4.6', '3.2', '1.4', '0.2', 'setosa']\n",
      "['5.3', '3.7', '1.5', '0.2', 'setosa']\n",
      "['5.0', '3.3', '1.4', '0.2', 'setosa']\n",
      "['7.0', '3.2', '4.7', '1.4', 'versicolor']\n",
      "['6.4', '3.2', '4.5', '1.5', 'versicolor']\n",
      "['6.9', '3.1', '4.9', '1.5', 'versicolor']\n",
      "['5.5', '2.3', '4.0', '1.3', 'versicolor']\n",
      "['6.5', '2.8', '4.6', '1.5', 'versicolor']\n",
      "['5.7', '2.8', '4.5', '1.3', 'versicolor']\n",
      "['6.3', '3.3', '4.7', '1.6', 'versicolor']\n",
      "['4.9', '2.4', '3.3', '1.0', 'versicolor']\n",
      "['6.6', '2.9', '4.6', '1.3', 'versicolor']\n",
      "['5.2', '2.7', '3.9', '1.4', 'versicolor']\n",
      "['5.0', '2.0', '3.5', '1.0', 'versicolor']\n",
      "['5.9', '3.0', '4.2', '1.5', 'versicolor']\n",
      "['6.0', '2.2', '4.0', '1.0', 'versicolor']\n",
      "['6.1', '2.9', '4.7', '1.4', 'versicolor']\n",
      "['5.6', '2.9', '3.6', '1.3', 'versicolor']\n",
      "['6.7', '3.1', '4.4', '1.4', 'versicolor']\n",
      "['5.6', '3.0', '4.5', '1.5', 'versicolor']\n",
      "['5.8', '2.7', '4.1', '1.0', 'versicolor']\n",
      "['6.2', '2.2', '4.5', '1.5', 'versicolor']\n",
      "['5.6', '2.5', '3.9', '1.1', 'versicolor']\n",
      "['5.9', '3.2', '4.8', '1.8', 'versicolor']\n",
      "['6.1', '2.8', '4.0', '1.3', 'versicolor']\n",
      "['6.3', '2.5', '4.9', '1.5', 'versicolor']\n",
      "['6.1', '2.8', '4.7', '1.2', 'versicolor']\n",
      "['6.4', '2.9', '4.3', '1.3', 'versicolor']\n",
      "['6.6', '3.0', '4.4', '1.4', 'versicolor']\n",
      "['6.8', '2.8', '4.8', '1.4', 'versicolor']\n",
      "['6.7', '3.0', '5.0', '1.7', 'versicolor']\n",
      "['6.0', '2.9', '4.5', '1.5', 'versicolor']\n",
      "['5.7', '2.6', '3.5', '1.0', 'versicolor']\n",
      "['5.5', '2.4', '3.8', '1.1', 'versicolor']\n",
      "['5.5', '2.4', '3.7', '1.0', 'versicolor']\n",
      "['5.8', '2.7', '3.9', '1.2', 'versicolor']\n",
      "['6.0', '2.7', '5.1', '1.6', 'versicolor']\n",
      "['5.4', '3.0', '4.5', '1.5', 'versicolor']\n",
      "['6.0', '3.4', '4.5', '1.6', 'versicolor']\n",
      "['6.7', '3.1', '4.7', '1.5', 'versicolor']\n",
      "['6.3', '2.3', '4.4', '1.3', 'versicolor']\n",
      "['5.6', '3.0', '4.1', '1.3', 'versicolor']\n",
      "['5.5', '2.5', '4.0', '1.3', 'versicolor']\n",
      "['5.5', '2.6', '4.4', '1.2', 'versicolor']\n",
      "['6.1', '3.0', '4.6', '1.4', 'versicolor']\n",
      "['5.8', '2.6', '4.0', '1.2', 'versicolor']\n",
      "['5.0', '2.3', '3.3', '1.0', 'versicolor']\n",
      "['5.6', '2.7', '4.2', '1.3', 'versicolor']\n",
      "['5.7', '3.0', '4.2', '1.2', 'versicolor']\n",
      "['5.7', '2.9', '4.2', '1.3', 'versicolor']\n",
      "['6.2', '2.9', '4.3', '1.3', 'versicolor']\n",
      "['5.1', '2.5', '3.0', '1.1', 'versicolor']\n",
      "['5.7', '2.8', '4.1', '1.3', 'versicolor']\n",
      "['6.3', '3.3', '6.0', '2.5', 'virginica']\n",
      "['5.8', '2.7', '5.1', '1.9', 'virginica']\n",
      "['7.1', '3.0', '5.9', '2.1', 'virginica']\n",
      "['6.3', '2.9', '5.6', '1.8', 'virginica']\n",
      "['6.5', '3.0', '5.8', '2.2', 'virginica']\n",
      "['7.6', '3.0', '6.6', '2.1', 'virginica']\n",
      "['4.9', '2.5', '4.5', '1.7', 'virginica']\n",
      "['7.3', '2.9', '6.3', '1.8', 'virginica']\n",
      "['6.7', '2.5', '5.8', '1.8', 'virginica']\n",
      "['7.2', '3.6', '6.1', '2.5', 'virginica']\n",
      "['6.5', '3.2', '5.1', '2.0', 'virginica']\n",
      "['6.4', '2.7', '5.3', '1.9', 'virginica']\n",
      "['6.8', '3.0', '5.5', '2.1', 'virginica']\n",
      "['5.7', '2.5', '5.0', '2.0', 'virginica']\n",
      "['5.8', '2.8', '5.1', '2.4', 'virginica']\n",
      "['6.4', '3.2', '5.3', '2.3', 'virginica']\n",
      "['6.5', '3.0', '5.5', '1.8', 'virginica']\n",
      "['7.7', '3.8', '6.7', '2.2', 'virginica']\n",
      "['7.7', '2.6', '6.9', '2.3', 'virginica']\n",
      "['6.0', '2.2', '5.0', '1.5', 'virginica']\n",
      "['6.9', '3.2', '5.7', '2.3', 'virginica']\n",
      "['5.6', '2.8', '4.9', '2.0', 'virginica']\n",
      "['7.7', '2.8', '6.7', '2.0', 'virginica']\n",
      "['6.3', '2.7', '4.9', '1.8', 'virginica']\n",
      "['6.7', '3.3', '5.7', '2.1', 'virginica']\n",
      "['7.2', '3.2', '6.0', '1.8', 'virginica']\n",
      "['6.2', '2.8', '4.8', '1.8', 'virginica']\n",
      "['6.1', '3.0', '4.9', '1.8', 'virginica']\n",
      "['6.4', '2.8', '5.6', '2.1', 'virginica']\n",
      "['7.2', '3.0', '5.8', '1.6', 'virginica']\n",
      "['7.4', '2.8', '6.1', '1.9', 'virginica']\n",
      "['7.9', '3.8', '6.4', '2.0', 'virginica']\n",
      "['6.4', '2.8', '5.6', '2.2', 'virginica']\n",
      "['6.3', '2.8', '5.1', '1.5', 'virginica']\n",
      "['6.1', '2.6', '5.6', '1.4', 'virginica']\n",
      "['7.7', '3.0', '6.1', '2.3', 'virginica']\n",
      "['6.3', '3.4', '5.6', '2.4', 'virginica']\n",
      "['6.4', '3.1', '5.5', '1.8', 'virginica']\n",
      "['6.0', '3.0', '4.8', '1.8', 'virginica']\n",
      "['6.9', '3.1', '5.4', '2.1', 'virginica']\n",
      "['6.7', '3.1', '5.6', '2.4', 'virginica']\n",
      "['6.9', '3.1', '5.1', '2.3', 'virginica']\n",
      "['5.8', '2.7', '5.1', '1.9', 'virginica']\n",
      "['6.8', '3.2', '5.9', '2.3', 'virginica']\n",
      "['6.7', '3.3', '5.7', '2.5', 'virginica']\n",
      "['6.7', '3.0', '5.2', '2.3', 'virginica']\n",
      "['6.3', '2.5', '5.0', '1.9', 'virginica']\n",
      "['6.5', '3.0', '5.2', '2.0', 'virginica']\n",
      "['6.2', '3.4', '5.4', '2.3', 'virginica']\n",
      "['5.9', '3.0', '5.1', '1.8', 'virginica']\n"
     ]
    }
   ],
   "source": [
    "import csv\n",
    "import requests\n",
    "\n",
    "url = \"https://raw.githubusercontent.com/mwaskom/seaborn-data/master/iris.csv\"\n",
    "response = requests.get(url)\n",
    "\n",
    "with open('iris.csv', 'wb') as f:\n",
    "   f.write(response.content)\n",
    "   \n",
    "with open('iris.csv') as csvfile:\n",
    "  reader = csv.reader(csvfile)\n",
    "  for row in reader:\n",
    "    print(row)"
   ]
  },
  {
   "cell_type": "code",
   "execution_count": 3,
   "id": "ac4952d6",
   "metadata": {},
   "outputs": [],
   "source": [
    "# Load the CSV file into a DataFrame\n",
    "df = pd.read_csv('iris.csv')"
   ]
  },
  {
   "cell_type": "code",
   "execution_count": 4,
   "id": "a724754d",
   "metadata": {},
   "outputs": [
    {
     "name": "stdout",
     "output_type": "stream",
     "text": [
      "   sepal_length  sepal_width  petal_length  petal_width species\n",
      "0           5.1          3.5           1.4          0.2  setosa\n",
      "1           4.9          3.0           1.4          0.2  setosa\n",
      "2           4.7          3.2           1.3          0.2  setosa\n",
      "3           4.6          3.1           1.5          0.2  setosa\n",
      "4           5.0          3.6           1.4          0.2  setosa\n"
     ]
    }
   ],
   "source": [
    "# Display the first few rows of the DataFrame to verify the data has been loaded successfully\n",
    "print(df.head())"
   ]
  },
  {
   "cell_type": "markdown",
   "id": "f7dc14c3",
   "metadata": {},
   "source": [
    "## Explore the data"
   ]
  },
  {
   "cell_type": "code",
   "execution_count": 1,
   "id": "212331e1",
   "metadata": {},
   "outputs": [],
   "source": [
    "import pandas as pd"
   ]
  },
  {
   "cell_type": "code",
   "execution_count": 2,
   "id": "72439638",
   "metadata": {},
   "outputs": [],
   "source": [
    "df = pd.read_csv('iris.csv')"
   ]
  },
  {
   "cell_type": "code",
   "execution_count": 3,
   "id": "b8e00ed2",
   "metadata": {
    "editable": true,
    "slideshow": {
     "slide_type": ""
    },
    "tags": []
   },
   "outputs": [
    {
     "data": {
      "text/html": [
       "<div>\n",
       "<style scoped>\n",
       "    .dataframe tbody tr th:only-of-type {\n",
       "        vertical-align: middle;\n",
       "    }\n",
       "\n",
       "    .dataframe tbody tr th {\n",
       "        vertical-align: top;\n",
       "    }\n",
       "\n",
       "    .dataframe thead th {\n",
       "        text-align: right;\n",
       "    }\n",
       "</style>\n",
       "<table border=\"1\" class=\"dataframe\">\n",
       "  <thead>\n",
       "    <tr style=\"text-align: right;\">\n",
       "      <th></th>\n",
       "      <th>sepal_length</th>\n",
       "      <th>sepal_width</th>\n",
       "      <th>petal_length</th>\n",
       "      <th>petal_width</th>\n",
       "      <th>species</th>\n",
       "    </tr>\n",
       "  </thead>\n",
       "  <tbody>\n",
       "    <tr>\n",
       "      <th>0</th>\n",
       "      <td>5.1</td>\n",
       "      <td>3.5</td>\n",
       "      <td>1.4</td>\n",
       "      <td>0.2</td>\n",
       "      <td>setosa</td>\n",
       "    </tr>\n",
       "    <tr>\n",
       "      <th>1</th>\n",
       "      <td>4.9</td>\n",
       "      <td>3.0</td>\n",
       "      <td>1.4</td>\n",
       "      <td>0.2</td>\n",
       "      <td>setosa</td>\n",
       "    </tr>\n",
       "    <tr>\n",
       "      <th>2</th>\n",
       "      <td>4.7</td>\n",
       "      <td>3.2</td>\n",
       "      <td>1.3</td>\n",
       "      <td>0.2</td>\n",
       "      <td>setosa</td>\n",
       "    </tr>\n",
       "    <tr>\n",
       "      <th>3</th>\n",
       "      <td>4.6</td>\n",
       "      <td>3.1</td>\n",
       "      <td>1.5</td>\n",
       "      <td>0.2</td>\n",
       "      <td>setosa</td>\n",
       "    </tr>\n",
       "    <tr>\n",
       "      <th>4</th>\n",
       "      <td>5.0</td>\n",
       "      <td>3.6</td>\n",
       "      <td>1.4</td>\n",
       "      <td>0.2</td>\n",
       "      <td>setosa</td>\n",
       "    </tr>\n",
       "  </tbody>\n",
       "</table>\n",
       "</div>"
      ],
      "text/plain": [
       "   sepal_length  sepal_width  petal_length  petal_width species\n",
       "0           5.1          3.5           1.4          0.2  setosa\n",
       "1           4.9          3.0           1.4          0.2  setosa\n",
       "2           4.7          3.2           1.3          0.2  setosa\n",
       "3           4.6          3.1           1.5          0.2  setosa\n",
       "4           5.0          3.6           1.4          0.2  setosa"
      ]
     },
     "execution_count": 3,
     "metadata": {},
     "output_type": "execute_result"
    }
   ],
   "source": [
    "df.head()"
   ]
  },
  {
   "cell_type": "markdown",
   "id": "7222368b",
   "metadata": {},
   "source": [
    "## Data cleaning"
   ]
  },
  {
   "cell_type": "code",
   "execution_count": 5,
   "id": "defdcbcd",
   "metadata": {},
   "outputs": [],
   "source": [
    "import pandas as pd"
   ]
  },
  {
   "cell_type": "code",
   "execution_count": 7,
   "id": "701416ae",
   "metadata": {},
   "outputs": [],
   "source": [
    "# Read the CSV file into a DataFrame\n",
    "df = pd.read_csv('iris.csv')"
   ]
  },
  {
   "cell_type": "code",
   "execution_count": 9,
   "id": "86fc708d-58ef-4c8d-b8fe-78d94bdb3798",
   "metadata": {},
   "outputs": [
    {
     "data": {
      "text/plain": [
       "Index(['sepal_length', 'sepal_width', 'petal_length', 'petal_width',\n",
       "       'species'],\n",
       "      dtype='object')"
      ]
     },
     "execution_count": 9,
     "metadata": {},
     "output_type": "execute_result"
    }
   ],
   "source": [
    "df.columns"
   ]
  },
  {
   "cell_type": "code",
   "execution_count": 10,
   "id": "aa29c0ea-991d-4714-9030-723037ee2ddb",
   "metadata": {},
   "outputs": [
    {
     "name": "stdout",
     "output_type": "stream",
     "text": [
      "sepal_length    0\n",
      "sepal_width     0\n",
      "petal_length    0\n",
      "petal_width     0\n",
      "species         0\n",
      "dtype: int64\n"
     ]
    }
   ],
   "source": [
    "# Check for missing values in the entire DataFrame\n",
    "print(df.isnull().sum())"
   ]
  },
  {
   "cell_type": "code",
   "execution_count": 11,
   "id": "ba64e895",
   "metadata": {},
   "outputs": [],
   "source": [
    "# Drop rows with missing values\n",
    "df = df.dropna()"
   ]
  },
  {
   "cell_type": "code",
   "execution_count": 12,
   "id": "db3147fa",
   "metadata": {},
   "outputs": [
    {
     "name": "stdout",
     "output_type": "stream",
     "text": [
      "Duplicate rows: 1\n"
     ]
    }
   ],
   "source": [
    "# Check for duplicate rows\n",
    "duplicate_rows = df.duplicated().sum()\n",
    "print(\"Duplicate rows:\", duplicate_rows)"
   ]
  },
  {
   "cell_type": "code",
   "execution_count": 13,
   "id": "872cb5ce",
   "metadata": {},
   "outputs": [],
   "source": [
    "# Drop duplicate rows\n",
    "df = df.drop_duplicates()"
   ]
  },
  {
   "cell_type": "code",
   "execution_count": 14,
   "id": "291a869b-7e92-421a-8d24-3ce7f3d13996",
   "metadata": {},
   "outputs": [
    {
     "data": {
      "text/html": [
       "<div>\n",
       "<style scoped>\n",
       "    .dataframe tbody tr th:only-of-type {\n",
       "        vertical-align: middle;\n",
       "    }\n",
       "\n",
       "    .dataframe tbody tr th {\n",
       "        vertical-align: top;\n",
       "    }\n",
       "\n",
       "    .dataframe thead th {\n",
       "        text-align: right;\n",
       "    }\n",
       "</style>\n",
       "<table border=\"1\" class=\"dataframe\">\n",
       "  <thead>\n",
       "    <tr style=\"text-align: right;\">\n",
       "      <th></th>\n",
       "      <th>mean</th>\n",
       "      <th>median</th>\n",
       "    </tr>\n",
       "    <tr>\n",
       "      <th>species</th>\n",
       "      <th></th>\n",
       "      <th></th>\n",
       "    </tr>\n",
       "  </thead>\n",
       "  <tbody>\n",
       "    <tr>\n",
       "      <th>setosa</th>\n",
       "      <td>1.462000</td>\n",
       "      <td>1.50</td>\n",
       "    </tr>\n",
       "    <tr>\n",
       "      <th>versicolor</th>\n",
       "      <td>4.260000</td>\n",
       "      <td>4.35</td>\n",
       "    </tr>\n",
       "    <tr>\n",
       "      <th>virginica</th>\n",
       "      <td>5.561224</td>\n",
       "      <td>5.60</td>\n",
       "    </tr>\n",
       "  </tbody>\n",
       "</table>\n",
       "</div>"
      ],
      "text/plain": [
       "                mean  median\n",
       "species                     \n",
       "setosa      1.462000    1.50\n",
       "versicolor  4.260000    4.35\n",
       "virginica   5.561224    5.60"
      ]
     },
     "execution_count": 14,
     "metadata": {},
     "output_type": "execute_result"
    }
   ],
   "source": [
    "df.groupby('species')['petal_length'].agg(['mean', 'median'])"
   ]
  },
  {
   "cell_type": "code",
   "execution_count": 12,
   "id": "1aa544a1",
   "metadata": {},
   "outputs": [
    {
     "name": "stdout",
     "output_type": "stream",
     "text": [
      "Cleaned DataFrame:\n",
      "   sepal_length  sepal_width  petal_length  petal_width species\n",
      "0           5.1          3.5           1.4          0.2  setosa\n",
      "1           4.9          3.0           1.4          0.2  setosa\n",
      "2           4.7          3.2           1.3          0.2  setosa\n",
      "3           4.6          3.1           1.5          0.2  setosa\n",
      "4           5.0          3.6           1.4          0.2  setosa\n",
      "5           5.4          3.9           1.7          0.4  setosa\n",
      "6           4.6          3.4           1.4          0.3  setosa\n",
      "7           5.0          3.4           1.5          0.2  setosa\n",
      "8           4.4          2.9           1.4          0.2  setosa\n",
      "9           4.9          3.1           1.5          0.1  setosa\n"
     ]
    }
   ],
   "source": [
    "# Display the cleaned DataFrame\n",
    "print(\"Cleaned DataFrame:\")\n",
    "print(df.head(10))"
   ]
  },
  {
   "cell_type": "markdown",
   "id": "76f438a8",
   "metadata": {},
   "source": [
    "## Descriptive analytics"
   ]
  },
  {
   "cell_type": "code",
   "execution_count": 10,
   "id": "0c9811d9",
   "metadata": {},
   "outputs": [
    {
     "ename": "ModuleNotFoundError",
     "evalue": "No module named 'matplotlib'",
     "output_type": "error",
     "traceback": [
      "\u001b[1;31m---------------------------------------------------------------------------\u001b[0m",
      "\u001b[1;31mModuleNotFoundError\u001b[0m                       Traceback (most recent call last)",
      "Cell \u001b[1;32mIn[10], line 2\u001b[0m\n\u001b[0;32m      1\u001b[0m \u001b[38;5;28;01mimport\u001b[39;00m \u001b[38;5;21;01mpandas\u001b[39;00m \u001b[38;5;28;01mas\u001b[39;00m \u001b[38;5;21;01mpd\u001b[39;00m\n\u001b[1;32m----> 2\u001b[0m \u001b[38;5;28;01mimport\u001b[39;00m \u001b[38;5;21;01mmatplotlib\u001b[39;00m\u001b[38;5;21;01m.\u001b[39;00m\u001b[38;5;21;01mpyplot\u001b[39;00m \u001b[38;5;28;01mas\u001b[39;00m \u001b[38;5;21;01mplt\u001b[39;00m\n\u001b[0;32m      3\u001b[0m \u001b[38;5;28;01mimport\u001b[39;00m \u001b[38;5;21;01mseaborn\u001b[39;00m \u001b[38;5;28;01mas\u001b[39;00m \u001b[38;5;21;01msns\u001b[39;00m\n",
      "\u001b[1;31mModuleNotFoundError\u001b[0m: No module named 'matplotlib'"
     ]
    }
   ],
   "source": [
    "import pandas as pd\n",
    "import matplotlib.pyplot as plt\n",
    "import seaborn as sns"
   ]
  },
  {
   "cell_type": "code",
   "execution_count": null,
   "id": "cea8108b",
   "metadata": {},
   "outputs": [],
   "source": [
    "df = pd.read_csv('cleaned_data.csv')"
   ]
  },
  {
   "cell_type": "code",
   "execution_count": null,
   "id": "2b1d3edf",
   "metadata": {},
   "outputs": [],
   "source": [
    "summary_stats = df.describe()\n",
    "print(summary_stats)"
   ]
  },
  {
   "cell_type": "code",
   "execution_count": null,
   "id": "d566f842",
   "metadata": {},
   "outputs": [],
   "source": [
    "correlation_matrix = df.corr()\n",
    "print(correlation_matrix)"
   ]
  },
  {
   "cell_type": "code",
   "execution_count": null,
   "id": "87b9f82d",
   "metadata": {},
   "outputs": [],
   "source": [
    "plt.figure(figsize=(10, 8))\n",
    "sns.heatmap(correlation_matrix, annot=True, cmap='coolwarm', fmt='.2f')\n",
    "plt.title('Correlation Matrix')\n",
    "plt.show()"
   ]
  },
  {
   "cell_type": "code",
   "execution_count": null,
   "id": "4db33252",
   "metadata": {},
   "outputs": [],
   "source": [
    "plt.figure(figsize=(10, 6))\n",
    "sns.histplot(df['numerical_column'], kde=True)\n",
    "plt.title('Distribution of Numerical Column')\n",
    "plt.xlabel('Numerical Column')\n",
    "plt.ylabel('Frequency')\n",
    "plt.show()"
   ]
  },
  {
   "cell_type": "code",
   "execution_count": null,
   "id": "ec2e4889",
   "metadata": {},
   "outputs": [],
   "source": [
    "plt.figure(figsize=(10, 6))\n",
    "sns.scatterplot(x='numerical_column_1', y='numerical_column_2', data=df)\n",
    "plt.title('Relationship between Numerical Column 1 and Numerical Column 2')\n",
    "plt.xlabel('Numerical Column 1')\n",
    "plt.ylabel('Numerical Column 2')\n",
    "plt.show()"
   ]
  }
 ],
 "metadata": {
  "kernelspec": {
   "display_name": "Python 3 (ipykernel)",
   "language": "python",
   "name": "python3"
  },
  "language_info": {
   "codemirror_mode": {
    "name": "ipython",
    "version": 3
   },
   "file_extension": ".py",
   "mimetype": "text/x-python",
   "name": "python",
   "nbconvert_exporter": "python",
   "pygments_lexer": "ipython3",
   "version": "3.11.9"
  }
 },
 "nbformat": 4,
 "nbformat_minor": 5
}
