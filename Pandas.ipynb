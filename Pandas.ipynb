{
 "cells": [
  {
   "cell_type": "code",
   "execution_count": 1,
   "id": "d999d4d6-0fdf-4017-9351-cac00efbbd0d",
   "metadata": {},
   "outputs": [],
   "source": [
    "from langchain_core.messages import HumanMessage, SystemMessage, AIMessage, trim_messages\n",
    "from langchain_community.llms import Ollama\n",
    "\n",
    "from langchain_core.prompts import ChatPromptTemplate, MessagesPlaceholder\n",
    "from operator import itemgetter\n",
    "import json\n",
    "\n",
    "from langchain_core.runnables import RunnablePassthrough\n",
    "\n",
    "model = Ollama(model=\"llama2\")\n",
    "\n",
    "# model.invoke([HumanMessage(content=\"Hi! I'm Bob\")])"
   ]
  },
  {
   "cell_type": "code",
   "execution_count": 8,
   "id": "8d803ee3",
   "metadata": {},
   "outputs": [
    {
     "data": {
      "text/plain": [
       "\"\\nSure, I'd be happy to help! To calculate the maximum value in a column in Pandas, you can use the `max()` function. Here is an example of how you can use it:\\n```\\nimport pandas as pd\\n\\n# create a sample dataset\\ndf = pd.DataFrame({'weight': [6, 4, 8, 10, 6]})\\n\\n# calculate the maximum value in the 'weight' column\\nmax_value = df['weight'].max()\\n\\nprint(max_value) # Output: 10\\n```\\nIn this example, the `max()` function is applied to the `weight` column of the `df` dataset. This will return the maximum value in that column, which in this case is 10.\\n\\nI hope this helps! Let me know if you have any other questions.\""
      ]
     },
     "execution_count": 8,
     "metadata": {},
     "output_type": "execute_result"
    },
    {
     "ename": "",
     "evalue": "",
     "output_type": "error",
     "traceback": [
      "\u001b[1;31mThe Kernel crashed while executing code in the current cell or a previous cell. \n",
      "\u001b[1;31mPlease review the code in the cell(s) to identify a possible cause of the failure. \n",
      "\u001b[1;31mClick <a href='https://aka.ms/vscodeJupyterKernelCrash'>here</a> for more info. \n",
      "\u001b[1;31mView Jupyter <a href='command:jupyter.viewOutput'>log</a> for further details."
     ]
    }
   ],
   "source": [
    "prompt = ChatPromptTemplate.from_messages(\n",
    "    [\n",
    "        (\n",
    "            \"system\",\n",
    "            \"You are a helpful assistant. Answer all questions to the best of your ability.\",\n",
    "        ),\n",
    "        MessagesPlaceholder(variable_name=\"messages\"),\n",
    "    ]\n",
    ")\n",
    "\n",
    "\n",
    "with open('ChatTest.chat') as f:\n",
    "    content = json.load(f)\n",
    "\n",
    "last_processed_message = content[\"messages\"][-1]\n",
    "\n",
    "messages = []\n",
    "for message in content['messages']:\n",
    "    if 'automated' in message:\n",
    "        messages.append(AIMessage(content=message['body']))\n",
    "    else:\n",
    "        messages.append(HumanMessage(content=message['body']))\n",
    "\n",
    "trimmer = trim_messages(\n",
    "    max_tokens=120,\n",
    "    strategy=\"last\",\n",
    "    token_counter=model,\n",
    "    include_system=True,\n",
    "    allow_partial=True,\n",
    "    # start_on=\"human\",\n",
    ")\n",
    "\n",
    "# trimmer.invoke(messages)\n",
    "\n",
    "chain = (\n",
    "    RunnablePassthrough.assign(messages=itemgetter(\"messages\") | trimmer)\n",
    "    | prompt\n",
    "    | model\n",
    ")\n",
    "\n",
    "response = chain.invoke(\n",
    "    {\n",
    "        \"messages\": messages + [HumanMessage(content=\"I actually need the max value\")],            \n",
    "    }\n",
    ")\n",
    "response"
   ]
  },
  {
   "cell_type": "code",
   "execution_count": 16,
   "id": "f671ff43",
   "metadata": {},
   "outputs": [],
   "source": [
    "with open('ChatTest.chat') as f:\n",
    "    content = json.load(f)"
   ]
  },
  {
   "cell_type": "code",
   "execution_count": 29,
   "id": "3ce6c20c",
   "metadata": {},
   "outputs": [
    {
     "name": "stdout",
     "output_type": "stream",
     "text": [
      "1227f3c151714816a1282be285864518\n"
     ]
    }
   ],
   "source": [
    "for user in content['users']:\n",
    "    print(user)"
   ]
  },
  {
   "cell_type": "code",
   "execution_count": 38,
   "id": "26344529",
   "metadata": {},
   "outputs": [
    {
     "data": {
      "text/plain": [
       "'1227f3c151714816a1282be285864518'"
      ]
     },
     "execution_count": 38,
     "metadata": {},
     "output_type": "execute_result"
    }
   ],
   "source": [
    "content['messages'][0].get('sender')"
   ]
  },
  {
   "cell_type": "code",
   "execution_count": null,
   "id": "b9d47f2e",
   "metadata": {},
   "outputs": [],
   "source": [
    "if len(content['users']) == 1:\n",
    "    "
   ]
  },
  {
   "cell_type": "code",
   "execution_count": 2,
   "id": "8e27a12b",
   "metadata": {},
   "outputs": [],
   "source": [
    "# model.invoke(\n",
    "#     [\n",
    "#         HumanMessage(content=\"Hi! I'm Bob\"),\n",
    "#         AIMessage(content=\"Hello Bob! How can I assist you today?\"),\n",
    "#         HumanMessage(content=\"What's my name?\"),\n",
    "#     ]\n",
    "# )"
   ]
  },
  {
   "cell_type": "code",
   "execution_count": 3,
   "id": "a068b4ca",
   "metadata": {},
   "outputs": [],
   "source": [
    "# from langchain_core.chat_history import (\n",
    "#     BaseChatMessageHistory,\n",
    "#     InMemoryChatMessageHistory,\n",
    "# )\n",
    "# from langchain_core.runnables.history import RunnableWithMessageHistory\n",
    "\n",
    "# store = {}\n",
    "\n",
    "# def get_session_history(session_id: str) -> BaseChatMessageHistory:\n",
    "#     if session_id not in store:\n",
    "#         store[session_id] = InMemoryChatMessageHistory()\n",
    "#     return store[session_id]\n",
    "\n",
    "\n",
    "# with_message_history = RunnableWithMessageHistory(model, get_session_history)"
   ]
  },
  {
   "cell_type": "code",
   "execution_count": 4,
   "id": "1238b303",
   "metadata": {},
   "outputs": [],
   "source": [
    "# config = {\"configurable\": {\"session_id\": \"abc2\"}}"
   ]
  },
  {
   "cell_type": "code",
   "execution_count": 6,
   "id": "fbe830de",
   "metadata": {},
   "outputs": [],
   "source": [
    "# with_message_history = RunnableWithMessageHistory(chain, get_session_history)\n",
    "# config = {\"configurable\": {\"session_id\": \"abc5\"}}\n",
    "# response = with_message_history.invoke(\n",
    "#     [HumanMessage(content=\"Hi! I'm Jim\")],\n",
    "#     config=config,\n",
    "# )\n",
    "\n",
    "# response"
   ]
  },
  {
   "cell_type": "markdown",
   "id": "fc5bde12",
   "metadata": {},
   "source": [
    "### Chat session Test"
   ]
  },
  {
   "cell_type": "code",
   "execution_count": 1,
   "id": "758c2549",
   "metadata": {},
   "outputs": [],
   "source": [
    "import uuid\n",
    "from langserve import RemoteRunnable\n",
    "\n",
    "chat = RemoteRunnable(\"http://localhost:8001/\")\n",
    "session_id = str(uuid.uuid4())\n"
   ]
  },
  {
   "cell_type": "code",
   "execution_count": 3,
   "id": "81e8f2cd",
   "metadata": {},
   "outputs": [
    {
     "data": {
      "text/plain": [
       "\"\\nGreat to hear that you're excited about data science, Man! 🍕 Before we dive into the topic, can you tell me a bit more about why you're interested in it? What do you hope to achieve or learn from this journey? 🤔\""
      ]
     },
     "execution_count": 3,
     "metadata": {},
     "output_type": "execute_result"
    }
   ],
   "source": [
    "chat.invoke({\"human_input\": \"hi, my name is Man, I like pizza. Ready to start?\"}, {'configurable': { 'session_id': session_id } })"
   ]
  },
  {
   "cell_type": "code",
   "execution_count": 10,
   "id": "e6fc0d9e",
   "metadata": {},
   "outputs": [
    {
     "data": {
      "text/plain": [
       "'AI: 😊 Hey Man, cool to hear that you have a variety of pets! 🐱 Now, let\\'s focus on your question. To calculate the average cat size in your data, you can use a technique called \"mean calculation\". Can you tell me more about your data and what you have so far?'"
      ]
     },
     "execution_count": 10,
     "metadata": {},
     "output_type": "execute_result"
    }
   ],
   "source": [
    "chat.invoke({\"human_input\": \"How can I get the average cat size from my data? I have all sorts of animals here\"}, {'configurable': { 'session_id': session_id } })"
   ]
  },
  {
   "cell_type": "code",
   "execution_count": 12,
   "id": "954ee38e",
   "metadata": {},
   "outputs": [
    {
     "data": {
      "text/plain": [
       "\"AI: Ah, great question! To find the heaviest cat in your dataset, you can use the `sort_values()` function to sort your data by the 'cat_weight' column in descending order (i.e. from highest to lowest). Then, you can take the first value in the sorted list, which will be the heaviest cat. Here's an example:\\n```python\\nimport pandas as pd\\n\\n# assume your dataset is stored in a variable called 'df'\\nheaviest_cat = df['cat_weight'].sort_values(by='cat_weight', ascending=False).iloc[0]\\nprint(heaviest_cat)\\n```\\nThis will give you the heaviest cat in your dataset. If you want to find the heaviest cat for a specific group of cats (e.g. by breed), you can use the `groupby()` function to group them by some characteristic and then calculate the heaviest weight within each group.\\n\\nBut wait, what about the other animals in your dataset? Do you have any interesting insights or patterns you'd like to explore? 😺\""
      ]
     },
     "execution_count": 12,
     "metadata": {},
     "output_type": "execute_result"
    }
   ],
   "source": [
    "chat.invoke({\"human_input\": \"what if I need the heaviest cat?\"}, {'configurable': { 'session_id': session_id } })"
   ]
  },
  {
   "cell_type": "code",
   "execution_count": 14,
   "id": "b227cf6f",
   "metadata": {},
   "outputs": [
    {
     "data": {
      "text/plain": [
       "\"AI: Of course! 🙅\\u200d♂️ Your favorite food is pizza. Is there anything else you'd like to learn or work on today related to data science?\""
      ]
     },
     "execution_count": 14,
     "metadata": {},
     "output_type": "execute_result"
    }
   ],
   "source": [
    "chat.invoke({\"human_input\": \"do you remember my favorite food?\"}, {'configurable': { 'session_id': session_id } })"
   ]
  },
  {
   "cell_type": "markdown",
   "id": "7e505d21",
   "metadata": {},
   "source": [
    "### Message trimming"
   ]
  },
  {
   "cell_type": "code",
   "execution_count": 3,
   "id": "13d08dde",
   "metadata": {},
   "outputs": [],
   "source": [
    "import json\n",
    "from langchain_core.messages import HumanMessage, SystemMessage, AIMessage, trim_messages\n",
    "from langchain_community.llms import Ollama\n",
    "\n",
    "model = Ollama(model=\"llama2\")"
   ]
  },
  {
   "cell_type": "code",
   "execution_count": 15,
   "id": "96fb5112",
   "metadata": {},
   "outputs": [
    {
     "data": {
      "text/plain": [
       "[HumanMessage(content='what if I need the heaviest cat?'),\n",
       " AIMessage(content=\"AI: Ah, great question! To find the heaviest cat in your dataset, you can use the `sort_values()` function to sort your data by the 'cat_weight' column in descending order (i.e. from highest to lowest). Then, you can take the first value in the sorted list, which will be the heaviest cat. Here's an example:\\n```python\\nimport pandas as pd\\n\\n# assume your dataset is stored in a variable called 'df'\\nheaviest_cat = df['cat_weight'].sort_values(by='cat_weight', ascending=False).iloc[0]\\nprint(heaviest_cat)\\n```\\nThis will give you the heaviest cat in your dataset. If you want to find the heaviest cat for a specific group of cats (e.g. by breed), you can use the `groupby()` function to group them by some characteristic and then calculate the heaviest weight within each group.\\n\\nBut wait, what about the other animals in your dataset? Do you have any interesting insights or patterns you'd like to explore? 😺\"),\n",
       " HumanMessage(content='do you remember my favorite food?'),\n",
       " AIMessage(content=\"AI: Of course! 🙅\\u200d♂️ Your favorite food is pizza. Is there anything else you'd like to learn or work on today related to data science?\")]"
      ]
     },
     "execution_count": 15,
     "metadata": {},
     "output_type": "execute_result"
    }
   ],
   "source": [
    "with open(f'chat_histories/{session_id}.json') as f:\n",
    "    content = json.load(f)\n",
    "messages = []\n",
    "for message in content:\n",
    "    if message['type'] == 'ai':\n",
    "        messages.append(AIMessage(content=message['data']['content']))\n",
    "    else:\n",
    "        messages.append(HumanMessage(content=message['data']['content']))\n",
    "\n",
    "\n",
    "trimmer = trim_messages(\n",
    "    max_tokens=300,\n",
    "    strategy=\"last\",\n",
    "    token_counter=model,\n",
    "    include_system=True,\n",
    "    allow_partial=True,\n",
    "    # start_on=\"human\",\n",
    ")\n",
    "\n",
    "trimmer.invoke(messages)"
   ]
  }
 ],
 "metadata": {
  "kernelspec": {
   "display_name": "Python 3 (ipykernel)",
   "language": "python",
   "name": "python3"
  },
  "language_info": {
   "codemirror_mode": {
    "name": "ipython",
    "version": 3
   },
   "file_extension": ".py",
   "mimetype": "text/x-python",
   "name": "python",
   "nbconvert_exporter": "python",
   "pygments_lexer": "ipython3",
   "version": "3.11.9"
  }
 },
 "nbformat": 4,
 "nbformat_minor": 5
}
